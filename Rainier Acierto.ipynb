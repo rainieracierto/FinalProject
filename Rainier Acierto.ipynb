{
 "cells": [
  {
   "cell_type": "code",
   "execution_count": 4,
   "metadata": {},
   "outputs": [],
   "source": [
    "# load pandas\n",
    "import pandas as pd\n",
    "import numpy as np\n",
    "%matplotlib inline"
   ]
  },
  {
   "cell_type": "code",
   "execution_count": 6,
   "metadata": {},
   "outputs": [],
   "source": [
    "police_arrest_pandas = pd.read_csv(\"policearrest.csv\", \n",
    "                                       index_col=\"ARRESTTIME\", parse_dates=True)\n"
   ]
  },
  {
   "cell_type": "code",
   "execution_count": 15,
   "metadata": {},
   "outputs": [
    {
     "name": "stdout",
     "output_type": "stream",
     "text": [
      "Central Business District    2721\n",
      "South Side Flats             2301\n",
      "Carrick                      1613\n",
      "East Allegheny               1507\n",
      "Homewood South               1439\n",
      "                             ... \n",
      "Central Northside              23\n",
      "Regent Square                  22\n",
      "Mt. Oliver Boro                16\n",
      "Troy Hill-Herrs Island          6\n",
      "Mt. Oliver Neighborhood         2\n",
      "Name: INCIDENTNEIGHBORHOOD, Length: 98, dtype: int64\n"
     ]
    }
   ],
   "source": [
    "arrest_neighborhoods = police_arrest_pandas['INCIDENTNEIGHBORHOOD'].value_counts()\n",
    "print(arrest_neighborhoods)"
   ]
  },
  {
   "cell_type": "code",
   "execution_count": 16,
   "metadata": {},
   "outputs": [
    {
     "data": {
      "text/plain": [
       "Central Northside          23\n",
       "Regent Square              22\n",
       "Mt. Oliver Boro            16\n",
       "Troy Hill-Herrs Island      6\n",
       "Mt. Oliver Neighborhood     2\n",
       "Name: INCIDENTNEIGHBORHOOD, dtype: int64"
      ]
     },
     "execution_count": 16,
     "metadata": {},
     "output_type": "execute_result"
    }
   ],
   "source": [
    "arrest_neighborhoods.tail()"
   ]
  },
  {
   "cell_type": "code",
   "execution_count": null,
   "metadata": {},
   "outputs": [],
   "source": []
  }
 ],
 "metadata": {
  "kernelspec": {
   "display_name": "Python 3",
   "language": "python",
   "name": "python3"
  },
  "language_info": {
   "codemirror_mode": {
    "name": "ipython",
    "version": 3
   },
   "file_extension": ".py",
   "mimetype": "text/x-python",
   "name": "python",
   "nbconvert_exporter": "python",
   "pygments_lexer": "ipython3",
   "version": "3.8.3"
  }
 },
 "nbformat": 4,
 "nbformat_minor": 4
}
